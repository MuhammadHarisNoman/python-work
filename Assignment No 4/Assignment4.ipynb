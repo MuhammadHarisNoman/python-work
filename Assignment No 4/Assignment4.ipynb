{
 "cells": [
  {
   "cell_type": "markdown",
   "id": "2cc2616c",
   "metadata": {},
   "source": [
    "# Question No 1:"
   ]
  },
  {
   "cell_type": "code",
   "execution_count": 4,
   "id": "0ef5165c",
   "metadata": {},
   "outputs": [
    {
     "name": "stdout",
     "output_type": "stream",
     "text": [
      "Select operator\n",
      "Enter your Selector symbol + - * / ** *\n",
      "Enter first Number5\n",
      "Enter second Number10\n",
      "5  *  10  =  50\n"
     ]
    }
   ],
   "source": [
    "def add(num1,num2):\n",
    "    return num1+num2;\n",
    "\n",
    "def subtract(num1,num2):\n",
    "    return num1-num2;\n",
    "\n",
    "def multiply(num1,num2):\n",
    "    return num1*num2;\n",
    "\n",
    "def divide(num1,num2):\n",
    "    return num1/num2;\n",
    "\n",
    "def power(num1,num2):\n",
    "    return num1**num2;\n",
    "\n",
    "print(\"Select operator\");\n",
    "selector = input(\"Enter your Selector symbol + - * / ** \");\n",
    "number1 = int(input(\"Enter first Number\"));\n",
    "number2 = int(input(\"Enter second Number\"));\n",
    "\n",
    "if selector == \"+\":\n",
    "    print(number1,\" + \",number2,\" = \",add(number1,number2));\n",
    "elif selector == \"-\":\n",
    "    print(number1,\" - \",number2,\" = \",subtract(number1,number2));\n",
    "elif selector == \"*\":\n",
    "    print(number1,\" * \",number2,\" = \",multiply(number1,number2));\n",
    "elif selector == \"/\":\n",
    "    print(number1,\" / \",number2,\" = \",divide(number1,number2));\n",
    "elif selector == \"**\":\n",
    "    print(number1,\" ** \",number2,\" = \",power(number1,number2));\n",
    "else:\n",
    "    print(\"invalid selector\");"
   ]
  },
  {
   "cell_type": "markdown",
   "id": "525a82f0",
   "metadata": {},
   "source": [
    "# Question No 2:"
   ]
  },
  {
   "cell_type": "code",
   "execution_count": 7,
   "id": "578a719e",
   "metadata": {},
   "outputs": [
    {
     "name": "stdout",
     "output_type": "stream",
     "text": [
      "Yes integer value in list 482\n",
      "Yes integer value in list 6\n",
      "Yes integer value in list 8\n",
      "Yes integer value in list 14\n"
     ]
    }
   ],
   "source": [
    "list = [\"haris\",\"noman\",482,\"hamza\",6,\"hamza\",8,\"awais\",14];\n",
    "for check in list:\n",
    "    if type(check) == int:\n",
    "        print(\"Yes integer value in list \"+str(check));"
   ]
  },
  {
   "cell_type": "markdown",
   "id": "bc2736b9",
   "metadata": {},
   "source": [
    "# Question No 3:\n"
   ]
  },
  {
   "cell_type": "code",
   "execution_count": 11,
   "id": "68668697",
   "metadata": {},
   "outputs": [
    {
     "name": "stdout",
     "output_type": "stream",
     "text": [
      "{1: 'haris', 2: 'hamza', 3: 'hamza', 4: 'talha', 5: 'talha bhai', 6: 'awais'}\n"
     ]
    }
   ],
   "source": [
    "a = {\n",
    "    1:\"haris\",\n",
    "    2:\"hamza\",\n",
    "    3:\"hamza\",\n",
    "    4:\"talha\",\n",
    "    5:\"talha bhai\"\n",
    "}\n",
    "#add key:\n",
    "a[6]=\"awais\";\n",
    "print(a);"
   ]
  },
  {
   "cell_type": "markdown",
   "id": "e504c1e6",
   "metadata": {},
   "source": [
    "# Question No 4: "
   ]
  },
  {
   "cell_type": "code",
   "execution_count": 16,
   "id": "25cbce57",
   "metadata": {},
   "outputs": [
    {
     "name": "stdout",
     "output_type": "stream",
     "text": [
      "1500\n"
     ]
    }
   ],
   "source": [
    "a = {\n",
    "    \"data1\":100,\n",
    "    \"data2\":200,\n",
    "    \"data3\":300,\n",
    "    \"data4\":400,\n",
    "    \"data5\":500,\n",
    "}\n",
    "print(sum(a.values()));"
   ]
  },
  {
   "cell_type": "markdown",
   "id": "df6e2985",
   "metadata": {},
   "source": [
    "# Question No 5:\n"
   ]
  },
  {
   "cell_type": "code",
   "execution_count": 31,
   "id": "05e74772",
   "metadata": {},
   "outputs": [
    {
     "name": "stdout",
     "output_type": "stream",
     "text": [
      "1\n",
      "2\n",
      "3\n",
      "4\n",
      "5\n",
      "6\n",
      "7\n",
      "8\n",
      "9\n"
     ]
    }
   ],
   "source": [
    "l1 = [1,2,3,4,5,6,7,1,8,9,2,4,3];\n",
    "result =[];\n",
    "for i in l1:\n",
    "    if i not in result:\n",
    "        result.append(i);\n",
    "        print(i);\n"
   ]
  },
  {
   "cell_type": "markdown",
   "id": "bb5275cf",
   "metadata": {},
   "source": [
    "# Question No 6:"
   ]
  },
  {
   "cell_type": "code",
   "execution_count": 28,
   "id": "566b7afd",
   "metadata": {},
   "outputs": [
    {
     "name": "stdout",
     "output_type": "stream",
     "text": [
      "enter your key 5\n",
      "Key is already exist in dictionary\n"
     ]
    }
   ],
   "source": [
    "a = {\n",
    "    \"1\":10,\n",
    "    \"2\":20,\n",
    "    \"3\":30,\n",
    "    \"4\":40,\n",
    "    \"5\":50\n",
    "}\n",
    "\n",
    "user = input(\"enter your key \");\n",
    "def check_key(x):\n",
    "    if x in a:\n",
    "        print(\"Key is already exist in dictionary\");\n",
    "    else:\n",
    "        print(\"not Exist in dictionary\");\n",
    "\n",
    "check_key(user);        "
   ]
  },
  {
   "cell_type": "code",
   "execution_count": null,
   "id": "9c924feb",
   "metadata": {},
   "outputs": [],
   "source": []
  },
  {
   "cell_type": "code",
   "execution_count": null,
   "id": "b85d3326",
   "metadata": {},
   "outputs": [],
   "source": []
  }
 ],
 "metadata": {
  "kernelspec": {
   "display_name": "Python 3",
   "language": "python",
   "name": "python3"
  },
  "language_info": {
   "codemirror_mode": {
    "name": "ipython",
    "version": 3
   },
   "file_extension": ".py",
   "mimetype": "text/x-python",
   "name": "python",
   "nbconvert_exporter": "python",
   "pygments_lexer": "ipython3",
   "version": "3.8.8"
  }
 },
 "nbformat": 4,
 "nbformat_minor": 5
}
