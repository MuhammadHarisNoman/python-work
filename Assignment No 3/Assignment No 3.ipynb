{
 "cells": [
  {
   "cell_type": "code",
   "execution_count": 1,
   "id": "651a1469",
   "metadata": {},
   "outputs": [
    {
     "name": "stdout",
     "output_type": "stream",
     "text": [
      "Twinkle, twinkle, little star,\n",
      "         How I wonder what you are!\n",
      "               Up above the world so high,\n",
      "               Like a diamond in the sky.\n",
      "Twinkle, twinkle, little star,\n",
      "         How I wonder what you are\n"
     ]
    }
   ],
   "source": [
    "#question number 1\n",
    "\n",
    "poem = \"twinkle\";\n",
    "if poem == \"twinkle\":\n",
    "    print(\"Twinkle, twinkle, little star,\");\n",
    "    print(\"         How I wonder what you are!\");\n",
    "    print(\"               Up above the world so high,\");\n",
    "    print(\"               Like a diamond in the sky.\");\n",
    "    print(\"Twinkle, twinkle, little star,\");\n",
    "    print(\"         How I wonder what you are\");"
   ]
  },
  {
   "cell_type": "code",
   "execution_count": 2,
   "id": "f67015a5",
   "metadata": {},
   "outputs": [
    {
     "name": "stdout",
     "output_type": "stream",
     "text": [
      "python Version\n",
      "3.8.8 (default, Apr 13 2021, 15:08:03) [MSC v.1916 64 bit (AMD64)]\n"
     ]
    }
   ],
   "source": [
    "#question number 2\n",
    "\n",
    "import sys;\n",
    "print(\"python Version\");\n",
    "print(sys.version);"
   ]
  },
  {
   "cell_type": "code",
   "execution_count": 3,
   "id": "ddd46bce",
   "metadata": {},
   "outputs": [
    {
     "name": "stdout",
     "output_type": "stream",
     "text": [
      "Current Date and Time :\n",
      "2021-10-23 12:14:25.097590\n"
     ]
    }
   ],
   "source": [
    "#question number 3\n",
    "\n",
    "import datetime;\n",
    "now = datetime.datetime.now();\n",
    "print(\"Current Date and Time :\");\n",
    "print(str(now));"
   ]
  },
  {
   "cell_type": "code",
   "execution_count": 4,
   "id": "ace96fa2",
   "metadata": {},
   "outputs": [
    {
     "ename": "ModuleNotFoundError",
     "evalue": "No module named 'pi'",
     "output_type": "error",
     "traceback": [
      "\u001b[1;31m---------------------------------------------------------------------------\u001b[0m",
      "\u001b[1;31mModuleNotFoundError\u001b[0m                       Traceback (most recent call last)",
      "\u001b[1;32m<ipython-input-4-2a8acecf8b38>\u001b[0m in \u001b[0;36m<module>\u001b[1;34m\u001b[0m\n\u001b[1;32m----> 1\u001b[1;33m \u001b[1;32mimport\u001b[0m \u001b[0mpi\u001b[0m\u001b[1;33m;\u001b[0m\u001b[1;33m\u001b[0m\u001b[1;33m\u001b[0m\u001b[0m\n\u001b[0m\u001b[0;32m      2\u001b[0m \u001b[0muser\u001b[0m \u001b[1;33m=\u001b[0m \u001b[0mfloat\u001b[0m\u001b[1;33m(\u001b[0m\u001b[0minput\u001b[0m\u001b[1;33m(\u001b[0m\u001b[1;34m\"radius of a circle :\"\u001b[0m\u001b[1;33m)\u001b[0m\u001b[1;33m)\u001b[0m\u001b[1;33m;\u001b[0m\u001b[1;33m\u001b[0m\u001b[1;33m\u001b[0m\u001b[0m\n\u001b[0;32m      3\u001b[0m \u001b[0mprint\u001b[0m\u001b[1;33m(\u001b[0m\u001b[1;34m\"The area of the circle :\"\u001b[0m\u001b[1;33m+\u001b[0m\u001b[1;34m\" str(user)\"\u001b[0m\u001b[1;33m+\u001b[0m\u001b[1;34m\"str(pi * user**2)\"\u001b[0m\u001b[1;33m)\u001b[0m\u001b[1;33m;\u001b[0m\u001b[1;33m\u001b[0m\u001b[1;33m\u001b[0m\u001b[0m\n",
      "\u001b[1;31mModuleNotFoundError\u001b[0m: No module named 'pi'"
     ]
    }
   ],
   "source": [
    "#question number 4\n",
    "\n",
    "import pi;\n",
    "user = float(input(\"radius of a circle :\"));\n",
    "print(\"The area of the circle :\"+\" str(user)\"+\"str(pi * user**2)\");"
   ]
  },
  {
   "cell_type": "code",
   "execution_count": 5,
   "id": "1a760be7",
   "metadata": {},
   "outputs": [
    {
     "ename": "SyntaxError",
     "evalue": "invalid syntax (<ipython-input-5-6ccecfb2965f>, line 1)",
     "output_type": "error",
     "traceback": [
      "\u001b[1;36m  File \u001b[1;32m\"<ipython-input-5-6ccecfb2965f>\"\u001b[1;36m, line \u001b[1;32m1\u001b[0m\n\u001b[1;33m    form math import pi;\u001b[0m\n\u001b[1;37m         ^\u001b[0m\n\u001b[1;31mSyntaxError\u001b[0m\u001b[1;31m:\u001b[0m invalid syntax\n"
     ]
    }
   ],
   "source": [
    "#question number 4\n",
    "\n",
    "form math import pi;\n",
    "user = float(input(\"radius of a circle :\"));\n",
    "print(\"The area of the circle :\"+\" str(user)\"+\"str(pi * user**2)\");"
   ]
  },
  {
   "cell_type": "code",
   "execution_count": 6,
   "id": "bdc9d251",
   "metadata": {},
   "outputs": [
    {
     "name": "stdout",
     "output_type": "stream",
     "text": [
      "radius of a circle :1.1\n",
      "The area of the circle : str(user)str(pi * user**2)\n"
     ]
    }
   ],
   "source": [
    "#question number 4\n",
    "\n",
    "from math import pi;\n",
    "user = float(input(\"radius of a circle :\"));\n",
    "print(\"The area of the circle :\"+str(user)+str(pi * user**2));"
   ]
  },
  {
   "cell_type": "code",
   "execution_count": 7,
   "id": "e94d7257",
   "metadata": {},
   "outputs": [
    {
     "name": "stdout",
     "output_type": "stream",
     "text": [
      "radius of a circle :1.1\n",
      "The area of the circle :1.13.8013271108436504\n"
     ]
    }
   ],
   "source": [
    "#question number 4\n",
    "\n",
    "from math import pi;\n",
    "user = float(input(\"radius of a circle :\"));\n",
    "print(\"The area of the circle :\"+str(user)+str(pi * user**2));"
   ]
  },
  {
   "cell_type": "code",
   "execution_count": 8,
   "id": "e1bfe7f2",
   "metadata": {},
   "outputs": [
    {
     "name": "stdout",
     "output_type": "stream",
     "text": [
      "radius of a circle :1.1\n",
      "The area of the circle :1.1is :3.8013271108436504\n"
     ]
    }
   ],
   "source": [
    "#question number 4\n",
    "\n",
    "from math import pi;\n",
    "user = float(input(\"radius of a circle :\"));\n",
    "print(\"The area of the circle :\"+str(user)+\"is :\"+str(pi * user**2));"
   ]
  },
  {
   "cell_type": "code",
   "execution_count": 9,
   "id": "31f7f346",
   "metadata": {},
   "outputs": [
    {
     "name": "stdout",
     "output_type": "stream",
     "text": [
      "radius of a circle :1.2\n",
      "The area of the circle :1.2 is :4.523893421169302\n"
     ]
    }
   ],
   "source": [
    "#question number 4\n",
    "\n",
    "from math import pi;\n",
    "user = float(input(\"radius of a circle :\"));\n",
    "print(\"The area of the circle :\"+str(user)+\" is :\"+str(pi * user**2));"
   ]
  },
  {
   "cell_type": "code",
   "execution_count": 10,
   "id": "3a0f889f",
   "metadata": {},
   "outputs": [
    {
     "name": "stdout",
     "output_type": "stream",
     "text": [
      "Enter First Name : Haris\n",
      "Enter Last Name : Noman\n",
      "Noman Haris\n"
     ]
    }
   ],
   "source": [
    "#question number 5\n",
    "\n",
    "firstName = input(\"Enter First Name : \");\n",
    "lastName = input(\"Enter Last Name : \");\n",
    "print(lastName+\" \"+firstName);"
   ]
  },
  {
   "cell_type": "code",
   "execution_count": 11,
   "id": "3109ad10",
   "metadata": {},
   "outputs": [
    {
     "name": "stdout",
     "output_type": "stream",
     "text": [
      "enter first number: 2\n",
      "enter second number: 8\n"
     ]
    },
    {
     "ename": "TypeError",
     "evalue": "can only concatenate str (not \"int\") to str",
     "output_type": "error",
     "traceback": [
      "\u001b[1;31m---------------------------------------------------------------------------\u001b[0m",
      "\u001b[1;31mTypeError\u001b[0m                                 Traceback (most recent call last)",
      "\u001b[1;32m<ipython-input-11-c1086601330e>\u001b[0m in \u001b[0;36m<module>\u001b[1;34m\u001b[0m\n\u001b[0;32m      2\u001b[0m \u001b[0mvalu2\u001b[0m \u001b[1;33m=\u001b[0m \u001b[0mint\u001b[0m\u001b[1;33m(\u001b[0m\u001b[0minput\u001b[0m\u001b[1;33m(\u001b[0m\u001b[1;34m\"enter second number: \"\u001b[0m\u001b[1;33m)\u001b[0m\u001b[1;33m)\u001b[0m\u001b[1;33m;\u001b[0m\u001b[1;33m\u001b[0m\u001b[1;33m\u001b[0m\u001b[0m\n\u001b[0;32m      3\u001b[0m \u001b[0mtotal\u001b[0m \u001b[1;33m=\u001b[0m \u001b[0mvalu1\u001b[0m\u001b[1;33m+\u001b[0m\u001b[0mvalu2\u001b[0m\u001b[1;33m;\u001b[0m\u001b[1;33m\u001b[0m\u001b[1;33m\u001b[0m\u001b[0m\n\u001b[1;32m----> 4\u001b[1;33m \u001b[0mprint\u001b[0m\u001b[1;33m(\u001b[0m\u001b[1;34m\"Addition total number \"\u001b[0m\u001b[1;33m+\u001b[0m\u001b[0mtotal\u001b[0m\u001b[1;33m)\u001b[0m\u001b[1;33m;\u001b[0m\u001b[1;33m\u001b[0m\u001b[1;33m\u001b[0m\u001b[0m\n\u001b[0m",
      "\u001b[1;31mTypeError\u001b[0m: can only concatenate str (not \"int\") to str"
     ]
    }
   ],
   "source": [
    "#question number 6\n",
    "\n",
    "valu1 = int(input(\"enter first number: \"));\n",
    "valu2 = int(input(\"enter second number: \"));\n",
    "total = valu1+valu2;\n",
    "print(\"Addition total number \"+str(total));"
   ]
  },
  {
   "cell_type": "code",
   "execution_count": 12,
   "id": "e52d793e",
   "metadata": {},
   "outputs": [
    {
     "name": "stdout",
     "output_type": "stream",
     "text": [
      "enter first number: 2\n",
      "enter second number: 8\n",
      "Addition total number 10\n"
     ]
    }
   ],
   "source": [
    "#question number 6\n",
    "\n",
    "valu1 = int(input(\"enter first number: \"));\n",
    "valu2 = int(input(\"enter second number: \"));\n",
    "total = valu1+valu2;\n",
    "print(\"Addition total number \"+str(total));"
   ]
  },
  {
   "cell_type": "code",
   "execution_count": 13,
   "id": "b65b4b9c",
   "metadata": {},
   "outputs": [
    {
     "name": "stdout",
     "output_type": "stream",
     "text": [
      "enter your number70\n",
      "enter your number70\n",
      "enter your number70\n",
      "enter your number85\n",
      "enter your number85\n",
      "Grade is B+\n"
     ]
    }
   ],
   "source": [
    "#question number 7\n",
    "\n",
    "math = int(input(\"enter your number\"));\n",
    "comp = int(input(\"enter your number\"));\n",
    "urdu = int(input(\"enter your number\"));\n",
    "eng = int(input(\"enter your number\"));\n",
    "Isl = int(input(\"enter your number\"));\n",
    "obtmark = math+comp+urdu+eng+Isl;\n",
    "percentage = obtmark/500*100;\n",
    "if percentage<=100 and percentage>85:\n",
    "    print(\"Grade is A+\");\n",
    "elif percentage<=85 and percentage>80:\n",
    "    print(\"Grade is A\");\n",
    "elif percentage<=80 and percentage>70:\n",
    "    print(\"Grade is B+\");\n",
    "elif percentage<=70 and percentage>60:\n",
    "    print(\"Grade is C+\");\n",
    "elif percentage<=60 and percentage>50:\n",
    "    print(\"Grade is D\");\n",
    "elif percentage<=50 and percentage>0:\n",
    "    print(\"Grade is F\");\n",
    "else:\n",
    "    print(\"please Enter correct number \");"
   ]
  },
  {
   "cell_type": "code",
   "execution_count": 14,
   "id": "e9fde892",
   "metadata": {},
   "outputs": [
    {
     "name": "stdout",
     "output_type": "stream",
     "text": [
      "enter your number101\n",
      "enter your number101\n",
      "enter your number101\n",
      "enter your number85\n",
      "enter your number85\n",
      "Grade is A+\n"
     ]
    }
   ],
   "source": [
    "#question number 7\n",
    "\n",
    "math = int(input(\"enter your number\"));\n",
    "comp = int(input(\"enter your number\"));\n",
    "urdu = int(input(\"enter your number\"));\n",
    "eng = int(input(\"enter your number\"));\n",
    "Isl = int(input(\"enter your number\"));\n",
    "obtmark = math+comp+urdu+eng+Isl;\n",
    "percentage = obtmark/500*100;\n",
    "if percentage<=100 and percentage>85:\n",
    "    print(\"Grade is A+\");\n",
    "elif percentage<=85 and percentage>80:\n",
    "    print(\"Grade is A\");\n",
    "elif percentage<=80 and percentage>70:\n",
    "    print(\"Grade is B+\");\n",
    "elif percentage<=70 and percentage>60:\n",
    "    print(\"Grade is C+\");\n",
    "elif percentage<=60 and percentage>50:\n",
    "    print(\"Grade is D\");\n",
    "elif percentage<=50 and percentage>0:\n",
    "    print(\"Grade is F\");\n",
    "else:\n",
    "    print(\"please Enter correct number \");"
   ]
  },
  {
   "cell_type": "code",
   "execution_count": 15,
   "id": "b45991b9",
   "metadata": {},
   "outputs": [
    {
     "name": "stdout",
     "output_type": "stream",
     "text": [
      "enter your number-10\n",
      "enter your number-10\n",
      "enter your number-10\n",
      "enter your number-10\n",
      "enter your number-10\n",
      "please Enter correct number \n"
     ]
    }
   ],
   "source": [
    "#question number 7\n",
    "\n",
    "math = int(input(\"enter your number\"));\n",
    "comp = int(input(\"enter your number\"));\n",
    "urdu = int(input(\"enter your number\"));\n",
    "eng = int(input(\"enter your number\"));\n",
    "Isl = int(input(\"enter your number\"));\n",
    "obtmark = math+comp+urdu+eng+Isl;\n",
    "percentage = obtmark/500*100;\n",
    "if percentage<=100 and percentage>85:\n",
    "    print(\"Grade is A+\");\n",
    "elif percentage<=85 and percentage>80:\n",
    "    print(\"Grade is A\");\n",
    "elif percentage<=80 and percentage>70:\n",
    "    print(\"Grade is B+\");\n",
    "elif percentage<=70 and percentage>60:\n",
    "    print(\"Grade is C+\");\n",
    "elif percentage<=60 and percentage>50:\n",
    "    print(\"Grade is D\");\n",
    "elif percentage<=50 and percentage>0:\n",
    "    print(\"Grade is F\");\n",
    "else:\n",
    "    print(\"please Enter correct number \");"
   ]
  },
  {
   "cell_type": "code",
   "execution_count": 16,
   "id": "57fd3445",
   "metadata": {},
   "outputs": [
    {
     "name": "stdout",
     "output_type": "stream",
     "text": [
      "enter your number101\n",
      "enter your number101\n",
      "enter your number101\n",
      "enter your number101\n",
      "enter your number101\n",
      "please Enter correct number \n"
     ]
    }
   ],
   "source": [
    "#question number 7\n",
    "\n",
    "math = int(input(\"enter your number\"));\n",
    "comp = int(input(\"enter your number\"));\n",
    "urdu = int(input(\"enter your number\"));\n",
    "eng = int(input(\"enter your number\"));\n",
    "Isl = int(input(\"enter your number\"));\n",
    "obtmark = math+comp+urdu+eng+Isl;\n",
    "percentage = obtmark/500*100;\n",
    "if percentage<=100 and percentage>85:\n",
    "    print(\"Grade is A+\");\n",
    "elif percentage<=85 and percentage>80:\n",
    "    print(\"Grade is A\");\n",
    "elif percentage<=80 and percentage>70:\n",
    "    print(\"Grade is B+\");\n",
    "elif percentage<=70 and percentage>60:\n",
    "    print(\"Grade is C+\");\n",
    "elif percentage<=60 and percentage>50:\n",
    "    print(\"Grade is D\");\n",
    "elif percentage<=50 and percentage>0:\n",
    "    print(\"Grade is F\");\n",
    "else:\n",
    "    print(\"please Enter correct number \");"
   ]
  },
  {
   "cell_type": "code",
   "execution_count": 17,
   "id": "b72bea49",
   "metadata": {},
   "outputs": [
    {
     "name": "stdout",
     "output_type": "stream",
     "text": [
      "Enter your number10\n",
      "Even number : 10\n"
     ]
    }
   ],
   "source": [
    "#question number 8\n",
    "\n",
    "num = int(input(\"Enter your number\"));\n",
    "if (num%2)==0:\n",
    "    print(\"Even number : \"+str(num));\n",
    "else:\n",
    "    print(\"odd number : \"+str(num));"
   ]
  },
  {
   "cell_type": "code",
   "execution_count": 18,
   "id": "659d352a",
   "metadata": {},
   "outputs": [
    {
     "name": "stdout",
     "output_type": "stream",
     "text": [
      "Enter your number3\n",
      "odd number : 3\n"
     ]
    }
   ],
   "source": [
    "#question number 8\n",
    "\n",
    "num = int(input(\"Enter your number\"));\n",
    "if (num%2)==0:\n",
    "    print(\"Even number : \"+str(num));\n",
    "else:\n",
    "    print(\"odd number : \"+str(num));"
   ]
  },
  {
   "cell_type": "code",
   "execution_count": 19,
   "id": "5df7b357",
   "metadata": {},
   "outputs": [
    {
     "name": "stdout",
     "output_type": "stream",
     "text": [
      "Enter your number1\n",
      "odd number : 1\n"
     ]
    }
   ],
   "source": [
    "#question number 8\n",
    "\n",
    "num = int(input(\"Enter your number\"));\n",
    "if (num%2)==0:\n",
    "    print(\"Even number : \"+str(num));\n",
    "else:\n",
    "    print(\"odd number : \"+str(num));"
   ]
  },
  {
   "cell_type": "code",
   "execution_count": 20,
   "id": "d0ce752d",
   "metadata": {},
   "outputs": [
    {
     "name": "stdout",
     "output_type": "stream",
     "text": [
      "Enter your number12\n",
      "Even number : 12\n"
     ]
    }
   ],
   "source": [
    "#question number 8\n",
    "\n",
    "num = int(input(\"Enter your number\"));\n",
    "if (num%2)==0:\n",
    "    print(\"Even number : \"+str(num));\n",
    "else:\n",
    "    print(\"odd number : \"+str(num));"
   ]
  },
  {
   "cell_type": "code",
   "execution_count": 21,
   "id": "9c93575f",
   "metadata": {},
   "outputs": [
    {
     "ename": "TypeError",
     "evalue": "can only concatenate str (not \"int\") to str",
     "output_type": "error",
     "traceback": [
      "\u001b[1;31m---------------------------------------------------------------------------\u001b[0m",
      "\u001b[1;31mTypeError\u001b[0m                                 Traceback (most recent call last)",
      "\u001b[1;32m<ipython-input-21-f19d72a1c0f1>\u001b[0m in \u001b[0;36m<module>\u001b[1;34m\u001b[0m\n\u001b[0;32m      1\u001b[0m \u001b[0mnameList\u001b[0m \u001b[1;33m=\u001b[0m \u001b[1;33m[\u001b[0m\u001b[1;34m\"haris\"\u001b[0m\u001b[1;33m,\u001b[0m\u001b[1;34m\"noman\"\u001b[0m\u001b[1;33m,\u001b[0m\u001b[1;34m\"hamza\"\u001b[0m\u001b[1;33m,\u001b[0m\u001b[1;34m\"hafiz hamza\"\u001b[0m\u001b[1;33m,\u001b[0m\u001b[1;34m\"awais\"\u001b[0m\u001b[1;33m,\u001b[0m\u001b[1;34m\"misbah\"\u001b[0m\u001b[1;33m,\u001b[0m\u001b[1;34m\"talha\"\u001b[0m\u001b[1;33m]\u001b[0m\u001b[1;33m;\u001b[0m\u001b[1;33m\u001b[0m\u001b[1;33m\u001b[0m\u001b[0m\n\u001b[1;32m----> 2\u001b[1;33m \u001b[0mprint\u001b[0m\u001b[1;33m(\u001b[0m\u001b[1;34m\"length of the list :\"\u001b[0m\u001b[1;33m+\u001b[0m\u001b[0mlen\u001b[0m\u001b[1;33m(\u001b[0m\u001b[0mnameList\u001b[0m\u001b[1;33m)\u001b[0m\u001b[1;33m)\u001b[0m\u001b[1;33m;\u001b[0m\u001b[1;33m\u001b[0m\u001b[1;33m\u001b[0m\u001b[0m\n\u001b[0m",
      "\u001b[1;31mTypeError\u001b[0m: can only concatenate str (not \"int\") to str"
     ]
    }
   ],
   "source": [
    "nameList = [\"haris\",\"noman\",\"hamza\",\"hafiz hamza\",\"awais\",\"misbah\",\"talha\"];\n",
    "print(\"length of the list :\"+len(nameList));"
   ]
  },
  {
   "cell_type": "code",
   "execution_count": 22,
   "id": "1a91f118",
   "metadata": {},
   "outputs": [
    {
     "name": "stdout",
     "output_type": "stream",
     "text": [
      "length of the list :7\n"
     ]
    }
   ],
   "source": [
    "#question number 9\n",
    "\n",
    "nameList = [\"haris\",\"noman\",\"hamza\",\"hafiz hamza\",\"awais\",\"misbah\",\"talha\"];\n",
    "num = len(nameList);\n",
    "print(\"length of the list :\"+str(num));"
   ]
  },
  {
   "cell_type": "code",
   "execution_count": 23,
   "id": "dacd23cb",
   "metadata": {},
   "outputs": [
    {
     "name": "stdout",
     "output_type": "stream",
     "text": [
      "Total value : 100\n"
     ]
    }
   ],
   "source": [
    "#question number 10\n",
    "\n",
    "namList = [10,20,30,20,20];\n",
    "total = sum(namList);\n",
    "print(\"Total value : \"+str(total));"
   ]
  },
  {
   "cell_type": "code",
   "execution_count": 24,
   "id": "c6e4c331",
   "metadata": {},
   "outputs": [
    {
     "name": "stdout",
     "output_type": "stream",
     "text": [
      "large number : 80\n"
     ]
    }
   ],
   "source": [
    "#question number 11\n",
    "\n",
    "numeric = [10,40,80,30,25,70];\n",
    "large = max(numeric);\n",
    "print(\"large number : \"+str(large));"
   ]
  },
  {
   "cell_type": "code",
   "execution_count": 26,
   "id": "edca4d38",
   "metadata": {},
   "outputs": [
    {
     "name": "stdout",
     "output_type": "stream",
     "text": [
      "1\n",
      "1\n",
      "2\n",
      "3\n"
     ]
    }
   ],
   "source": [
    "#question number 12\n",
    "\n",
    "a = [1,1,2,3,5,8,13,21,34,55,89];\n",
    "for arrstore in a:\n",
    "    if arrstore<5:\n",
    "        print(arrstore);"
   ]
  },
  {
   "cell_type": "code",
   "execution_count": null,
   "id": "a0e0b965",
   "metadata": {},
   "outputs": [],
   "source": []
  }
 ],
 "metadata": {
  "kernelspec": {
   "display_name": "Python 3",
   "language": "python",
   "name": "python3"
  },
  "language_info": {
   "codemirror_mode": {
    "name": "ipython",
    "version": 3
   },
   "file_extension": ".py",
   "mimetype": "text/x-python",
   "name": "python",
   "nbconvert_exporter": "python",
   "pygments_lexer": "ipython3",
   "version": "3.8.8"
  }
 },
 "nbformat": 4,
 "nbformat_minor": 5
}
